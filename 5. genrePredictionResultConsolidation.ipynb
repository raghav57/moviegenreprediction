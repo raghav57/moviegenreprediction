{
 "cells": [
  {
   "cell_type": "code",
   "execution_count": 5,
   "metadata": {},
   "outputs": [],
   "source": [
    "import pandas as pd\n",
    "resultRF = pd.read_pickle(r'D:\\Machine Learning\\Vamsi Thesis\\Code\\Results\\Result_RF.pkl')\n",
    "resultRF.to_excel(r'D:\\Machine Learning\\Vamsi Thesis\\Code\\Results\\Result_RF.xlsx',index=False)"
   ]
  },
  {
   "cell_type": "code",
   "execution_count": 6,
   "metadata": {},
   "outputs": [],
   "source": [
    "import pandas as pd\n",
    "resultRF = pd.read_pickle(r'D:\\Machine Learning\\Vamsi Thesis\\Code\\Results\\Result_NB.pkl')\n",
    "resultRF.to_excel(r'D:\\Machine Learning\\Vamsi Thesis\\Code\\Results\\Result_NB.xlsx',index=False)"
   ]
  },
  {
   "cell_type": "code",
   "execution_count": 7,
   "metadata": {},
   "outputs": [],
   "source": [
    "import pandas as pd\n",
    "resultRF = pd.read_pickle(r'D:\\Machine Learning\\Vamsi Thesis\\Code\\Results\\Result_LSTM.pkl')\n",
    "resultRF.to_excel(r'D:\\Machine Learning\\Vamsi Thesis\\Code\\Results\\Result_LSTM.xlsx',index=False)"
   ]
  }
 ],
 "metadata": {
  "kernelspec": {
   "display_name": "Python 3",
   "language": "python",
   "name": "python3"
  },
  "language_info": {
   "codemirror_mode": {
    "name": "ipython",
    "version": 3
   },
   "file_extension": ".py",
   "mimetype": "text/x-python",
   "name": "python",
   "nbconvert_exporter": "python",
   "pygments_lexer": "ipython3",
   "version": "3.6.10"
  }
 },
 "nbformat": 4,
 "nbformat_minor": 4
}
